{
 "cells": [
  {
   "cell_type": "code",
   "execution_count": null,
   "id": "8092a77d",
   "metadata": {},
   "outputs": [],
   "source": [
    "import sqlite3\n",
    "import datetime as dt"
   ]
  },
  {
   "cell_type": "code",
   "execution_count": null,
   "id": "6e4777a5",
   "metadata": {},
   "outputs": [],
   "source": [
    "conn = sqlite3.connect('test.db')"
   ]
  },
  {
   "cell_type": "code",
   "execution_count": null,
   "id": "ebb5bfe5",
   "metadata": {},
   "outputs": [],
   "source": [
    "conn.execute('''CREATE TABLE TRANSACTIONS\n",
    "         (ID INT NOT NULL,\n",
    "         INSERT_TIME TIMESTAMP NOT NULL,\n",
    "         TX_AMOUNT FLOAT,\n",
    "         TX_TYPE STRING,\n",
    "         STATUS STRING);''')\n",
    "#conn.execute(\"DROP TABLE TRANSACTIONS\")"
   ]
  },
  {
   "cell_type": "code",
   "execution_count": null,
   "id": "dd7af635",
   "metadata": {},
   "outputs": [],
   "source": [
    "ids= 2\n",
    "tx_amount = 7901025;\n",
    "tx_type = \"DOGE\";\n",
    "status = \"DONE\";"
   ]
  },
  {
   "cell_type": "code",
   "execution_count": null,
   "id": "c1745ea9",
   "metadata": {},
   "outputs": [],
   "source": [
    "def insert_data(ids,tx_amount,tx_type,status):\n",
    "    inserted_time =dt.datetime.now()\n",
    "    conn.execute(\"INSERT INTO TRANSACTIONS (ID,INSERT_TIME,TX_AMOUNT,TX_TYPE,STATUS)\\\n",
    "      VALUES(?, ?, ?, ?, ?)\",(ids,inserted_time,tx_amount,tx_type,status));\n",
    "    print(\"added successfully\");\n",
    "    conn.commit();\n",
    "insert_data(ids,tx_amount,tx_type,status)"
   ]
  },
  {
   "cell_type": "code",
   "execution_count": null,
   "id": "d0823cff",
   "metadata": {},
   "outputs": [],
   "source": [
    "cursor = conn.execute(\"SELECT * from TRANSACTIONS\")\n",
    "for x in cursor:\n",
    "   print(\"ID = \", x[0]);\n",
    "   print(\"insert_time = \", x[1]);\n",
    "   print(\"tx_amount = \", x[2]);\n",
    "   print(\"tx_type = \", x[3]),\n",
    "   print(\"status = \", x[4]);"
   ]
  },
  {
   "cell_type": "markdown",
   "id": "3c9f9d1f",
   "metadata": {},
   "source": [
    "## Dataset A "
   ]
  },
  {
   "cell_type": "markdown",
   "id": "3d20a479",
   "metadata": {},
   "source": [
    "1. You are assigned to create a view that only shows the most updated transactions for each id, so there is no duplicate id inside the view."
   ]
  },
  {
   "cell_type": "code",
   "execution_count": null,
   "id": "e26da3de",
   "metadata": {},
   "outputs": [],
   "source": [
    "cursor = conn.execute(\"SELECT ID, MAX(INSERT_TIME) AS INSERT_TIME, TX_AMOUNT, TX_TYPE, STATUS \\\n",
    "from TRANSACTIONS GROUP BY ID\")\n",
    "for x in cursor:\n",
    "   print(\"ID = \", x[0]);\n",
    "   print(\"insert_time = \", x[1]);\n",
    "   print(\"tx_amount = \", x[2]);\n",
    "   print(\"tx_type = \", x[3]),\n",
    "   print(\"status = \", x[4]);"
   ]
  },
  {
   "cell_type": "markdown",
   "id": "5bd53b87",
   "metadata": {},
   "source": [
    "## Dataset B\n"
   ]
  },
  {
   "cell_type": "markdown",
   "id": "de95265d",
   "metadata": {},
   "source": [
    "2. Write a query to get the rolling sum total of sales using the window function!"
   ]
  },
  {
   "cell_type": "code",
   "execution_count": null,
   "id": "7835c0a9",
   "metadata": {},
   "outputs": [],
   "source": [
    "conn.execute('''CREATE TABLE SALES\n",
    "         (SALES_DATE DATE,\n",
    "         SALES FLOAT);''')\n",
    "# conn.execute(\"DROP TABLE SALES\")"
   ]
  },
  {
   "cell_type": "code",
   "execution_count": null,
   "id": "578c1d0f",
   "metadata": {},
   "outputs": [],
   "source": [
    "conn.execute(\"INSERT INTO SALES (SALES_DATE,SALES) \\\n",
    "      VALUES \\\n",
    "       ('2021-01-01', 100), \\\n",
    "       ('2021-01-02', 34), \\\n",
    "       ('2021-01-02', 123), \\\n",
    "       ('2021-01-02', 134), \\\n",
    "       ('2021-01-03', 145), \\\n",
    "       ('2021-01-03', 24), \\\n",
    "       ('2021-01-04', 541), \\\n",
    "       ('2021-01-04', 636), \\\n",
    "       ('2021-01-05', 322), \\\n",
    "       ('2021-01-06', 242), \\\n",
    "       ('2021-01-07', 22), \\\n",
    "       ('2021-01-08', 46) \\\n",
    "      \")"
   ]
  },
  {
   "cell_type": "code",
   "execution_count": null,
   "id": "9e7c4f48",
   "metadata": {},
   "outputs": [],
   "source": [
    "cursor = conn.execute(\"SELECT SALES_DATE,SALES from SALES\")\n",
    "for x in cursor:\n",
    "   print(\"Date = \", x[0]);\n",
    "   print(\"Sales = \", x[1]);"
   ]
  },
  {
   "cell_type": "code",
   "execution_count": 10,
   "id": "422a71dc",
   "metadata": {},
   "outputs": [
    {
     "ename": "NameError",
     "evalue": "name 'conn' is not defined",
     "output_type": "error",
     "traceback": [
      "\u001b[1;31m---------------------------------------------------------------------------\u001b[0m",
      "\u001b[1;31mNameError\u001b[0m                                 Traceback (most recent call last)",
      "\u001b[1;32m<ipython-input-10-9e0ba7c1512b>\u001b[0m in \u001b[0;36m<module>\u001b[1;34m\u001b[0m\n\u001b[1;32m----> 1\u001b[1;33m cursor = conn.execute(\"SELECT SALES_DATE,SUM(SALES) \\\n\u001b[0m\u001b[0;32m      2\u001b[0m from SALES GROUP BY SALES_DATE\")\n\u001b[0;32m      3\u001b[0m \u001b[1;32mfor\u001b[0m \u001b[0mx\u001b[0m \u001b[1;32min\u001b[0m \u001b[0mcursor\u001b[0m\u001b[1;33m:\u001b[0m\u001b[1;33m\u001b[0m\u001b[1;33m\u001b[0m\u001b[0m\n\u001b[0;32m      4\u001b[0m    \u001b[0mprint\u001b[0m\u001b[1;33m(\u001b[0m\u001b[1;34m\"Date = \"\u001b[0m\u001b[1;33m,\u001b[0m \u001b[0mx\u001b[0m\u001b[1;33m[\u001b[0m\u001b[1;36m0\u001b[0m\u001b[1;33m]\u001b[0m\u001b[1;33m)\u001b[0m\u001b[1;33m;\u001b[0m\u001b[1;33m\u001b[0m\u001b[1;33m\u001b[0m\u001b[0m\n\u001b[0;32m      5\u001b[0m    \u001b[0mprint\u001b[0m\u001b[1;33m(\u001b[0m\u001b[1;34m\"Total sales that day = \"\u001b[0m\u001b[1;33m,\u001b[0m \u001b[0mx\u001b[0m\u001b[1;33m[\u001b[0m\u001b[1;36m1\u001b[0m\u001b[1;33m]\u001b[0m\u001b[1;33m)\u001b[0m\u001b[1;33m;\u001b[0m\u001b[1;33m\u001b[0m\u001b[1;33m\u001b[0m\u001b[0m\n",
      "\u001b[1;31mNameError\u001b[0m: name 'conn' is not defined"
     ]
    }
   ],
   "source": [
    "cursor = conn.execute(\"SELECT SALES_DATE,SUM(SALES) \\\n",
    "from SALES GROUP BY SALES_DATE\")\n",
    "for x in cursor:\n",
    "   print(\"Date = \", x[0]);\n",
    "   print(\"Total sales that day = \", x[1]);\n"
   ]
  },
  {
   "cell_type": "code",
   "execution_count": 11,
   "id": "9a792597",
   "metadata": {},
   "outputs": [
    {
     "ename": "NameError",
     "evalue": "name 'conn' is not defined",
     "output_type": "error",
     "traceback": [
      "\u001b[1;31m---------------------------------------------------------------------------\u001b[0m",
      "\u001b[1;31mNameError\u001b[0m                                 Traceback (most recent call last)",
      "\u001b[1;32m<ipython-input-11-8dd0cd799055>\u001b[0m in \u001b[0;36m<module>\u001b[1;34m\u001b[0m\n\u001b[1;32m----> 1\u001b[1;33m \u001b[0mconn\u001b[0m\u001b[1;33m.\u001b[0m\u001b[0mclose\u001b[0m\u001b[1;33m(\u001b[0m\u001b[1;33m)\u001b[0m\u001b[1;33m\u001b[0m\u001b[1;33m\u001b[0m\u001b[0m\n\u001b[0m",
      "\u001b[1;31mNameError\u001b[0m: name 'conn' is not defined"
     ]
    }
   ],
   "source": [
    "conn.close()"
   ]
  },
  {
   "cell_type": "markdown",
   "id": "ae346b03",
   "metadata": {},
   "source": [
    "# Dataset C "
   ]
  },
  {
   "cell_type": "markdown",
   "id": "06976e8f",
   "metadata": {},
   "source": [
    "Your task is to create an automation (python script preferable) that convert JSON file above into three CSV files below"
   ]
  },
  {
   "cell_type": "code",
   "execution_count": 38,
   "id": "a1faba7b",
   "metadata": {},
   "outputs": [],
   "source": [
    "import pandas as pd"
   ]
  },
  {
   "cell_type": "code",
   "execution_count": 8,
   "id": "a69ad49d",
   "metadata": {},
   "outputs": [],
   "source": [
    "datac = [\n",
    "   {\n",
    "       \"user\": {\n",
    "           \"id\": 1,\n",
    "           \"name\": \"agus\",\n",
    "           \"email\": \"agus@example.com\"\n",
    "       },\n",
    "       \"txs\": [\n",
    "           {\n",
    "               \"id\": 1,\n",
    "               \"tx_date\": \"2020-01-01\",\n",
    "               \"tx_amount\": 10,\n",
    "               \"tx_type\": \"buy\"\n",
    "           },\n",
    "           {\n",
    "               \"id\": 3,\n",
    "               \"tx_date\": \"2020-02-01\",\n",
    "               \"tx_amount\": 10,\n",
    "               \"tx_type\": \"buy\"\n",
    "           },\n",
    "           {\n",
    "               \"id\": 5,\n",
    "               \"tx_date\": \"2020-03-01\",\n",
    "               \"tx_amount\": 20,\n",
    "               \"tx_type\": \"sell\"\n",
    "           }\n",
    "       ]\n",
    "   },\n",
    "   {\n",
    "       \"user\": {\n",
    "           \"id\": 2,\n",
    "           \"name\": \"asep\",\n",
    "           \"email\": \"asep@example.com\"\n",
    "       },\n",
    "       \"txs\": [\n",
    "           {\n",
    "               \"id\": 2,\n",
    "               \"tx_date\": \"2020-01-01\",\n",
    "               \"tx_amount\": 10,\n",
    "               \"tx_type\": \"sell\"\n",
    "           },\n",
    "           {\n",
    "               \"id\": 4,\n",
    "               \"tx_date\": \"2020-02-01\",\n",
    "               \"tx_amount\": 10,\n",
    "               \"tx_type\": \"sell\"\n",
    "           },\n",
    "           {\n",
    "               \"id\": 6,\n",
    "               \"tx_date\": \"2020-03-01\",\n",
    "               \"tx_amount\": 20,\n",
    "               \"tx_type\": \"buy\"\n",
    "           }\n",
    "       ]\n",
    "   }\n",
    "]"
   ]
  },
  {
   "cell_type": "markdown",
   "id": "b9f469c0",
   "metadata": {},
   "source": [
    "#### CSV 1 (user_id, tx_id)"
   ]
  },
  {
   "cell_type": "code",
   "execution_count": 37,
   "id": "53184773",
   "metadata": {},
   "outputs": [
    {
     "data": {
      "text/plain": [
       "{'user_id': [1, 1, 1, 2, 2, 2], 'tx_id': [1, 3, 5, 2, 4, 6]}"
      ]
     },
     "execution_count": 37,
     "metadata": {},
     "output_type": "execute_result"
    }
   ],
   "source": [
    "user_id = []\n",
    "tx_id = []\n",
    "\n",
    "for i in range(0, len(datac)):\n",
    "    user_temp = datac[i]['user']\n",
    "    tx_temp = datac[i]['txs']\n",
    "    for j in range(0,len(tx_temp)):\n",
    "        user_id.append(list(user_temp.values())[0])\n",
    "        tx_id.append(tx_temp[j]['id'])\n",
    "\n",
    "\n",
    "csvone = {'user_id': user_id, 'tx_id' : tx_id}\n",
    "csvone   \n",
    "    "
   ]
  },
  {
   "cell_type": "code",
   "execution_count": 65,
   "id": "e9601164",
   "metadata": {},
   "outputs": [
    {
     "data": {
      "text/html": [
       "<div>\n",
       "<style scoped>\n",
       "    .dataframe tbody tr th:only-of-type {\n",
       "        vertical-align: middle;\n",
       "    }\n",
       "\n",
       "    .dataframe tbody tr th {\n",
       "        vertical-align: top;\n",
       "    }\n",
       "\n",
       "    .dataframe thead th {\n",
       "        text-align: right;\n",
       "    }\n",
       "</style>\n",
       "<table border=\"1\" class=\"dataframe\">\n",
       "  <thead>\n",
       "    <tr style=\"text-align: right;\">\n",
       "      <th></th>\n",
       "      <th>user_id</th>\n",
       "      <th>tx_id</th>\n",
       "    </tr>\n",
       "  </thead>\n",
       "  <tbody>\n",
       "    <tr>\n",
       "      <th>0</th>\n",
       "      <td>1</td>\n",
       "      <td>1</td>\n",
       "    </tr>\n",
       "    <tr>\n",
       "      <th>1</th>\n",
       "      <td>1</td>\n",
       "      <td>3</td>\n",
       "    </tr>\n",
       "    <tr>\n",
       "      <th>2</th>\n",
       "      <td>1</td>\n",
       "      <td>5</td>\n",
       "    </tr>\n",
       "    <tr>\n",
       "      <th>3</th>\n",
       "      <td>2</td>\n",
       "      <td>2</td>\n",
       "    </tr>\n",
       "    <tr>\n",
       "      <th>4</th>\n",
       "      <td>2</td>\n",
       "      <td>4</td>\n",
       "    </tr>\n",
       "    <tr>\n",
       "      <th>5</th>\n",
       "      <td>2</td>\n",
       "      <td>6</td>\n",
       "    </tr>\n",
       "  </tbody>\n",
       "</table>\n",
       "</div>"
      ],
      "text/plain": [
       "   user_id  tx_id\n",
       "0        1      1\n",
       "1        1      3\n",
       "2        1      5\n",
       "3        2      2\n",
       "4        2      4\n",
       "5        2      6"
      ]
     },
     "execution_count": 65,
     "metadata": {},
     "output_type": "execute_result"
    }
   ],
   "source": [
    "convertone = pd.DataFrame(csvone)\n",
    "convertone.head(6)"
   ]
  },
  {
   "cell_type": "code",
   "execution_count": null,
   "id": "8176b8ab",
   "metadata": {},
   "outputs": [],
   "source": [
    "convertone.to_csv('CSV_01.csv')"
   ]
  },
  {
   "cell_type": "markdown",
   "id": "e9b72eeb",
   "metadata": {},
   "source": [
    "#### CSV 2 (ID,name,email)"
   ]
  },
  {
   "cell_type": "code",
   "execution_count": 55,
   "id": "2524e891",
   "metadata": {},
   "outputs": [
    {
     "data": {
      "text/plain": [
       "[[1, 'agus', 'agus@example.com'], [2, 'asep', 'asep@example.com']]"
      ]
     },
     "execution_count": 55,
     "metadata": {},
     "output_type": "execute_result"
    }
   ],
   "source": [
    "csvtwo = []\n",
    "\n",
    "for i in range(0, len(datac)):\n",
    "    temp = datac[i]['user']\n",
    "    csvtwo.append(list(temp.values()))\n",
    "\n",
    "csvtwo"
   ]
  },
  {
   "cell_type": "code",
   "execution_count": 63,
   "id": "0061523e",
   "metadata": {},
   "outputs": [
    {
     "data": {
      "text/html": [
       "<div>\n",
       "<style scoped>\n",
       "    .dataframe tbody tr th:only-of-type {\n",
       "        vertical-align: middle;\n",
       "    }\n",
       "\n",
       "    .dataframe tbody tr th {\n",
       "        vertical-align: top;\n",
       "    }\n",
       "\n",
       "    .dataframe thead th {\n",
       "        text-align: right;\n",
       "    }\n",
       "</style>\n",
       "<table border=\"1\" class=\"dataframe\">\n",
       "  <thead>\n",
       "    <tr style=\"text-align: right;\">\n",
       "      <th></th>\n",
       "      <th>ID</th>\n",
       "      <th>Name</th>\n",
       "      <th>Email</th>\n",
       "    </tr>\n",
       "  </thead>\n",
       "  <tbody>\n",
       "    <tr>\n",
       "      <th>0</th>\n",
       "      <td>1</td>\n",
       "      <td>agus</td>\n",
       "      <td>agus@example.com</td>\n",
       "    </tr>\n",
       "    <tr>\n",
       "      <th>1</th>\n",
       "      <td>2</td>\n",
       "      <td>asep</td>\n",
       "      <td>asep@example.com</td>\n",
       "    </tr>\n",
       "  </tbody>\n",
       "</table>\n",
       "</div>"
      ],
      "text/plain": [
       "   ID  Name             Email\n",
       "0   1  agus  agus@example.com\n",
       "1   2  asep  asep@example.com"
      ]
     },
     "execution_count": 63,
     "metadata": {},
     "output_type": "execute_result"
    }
   ],
   "source": [
    "converttwo = pd.DataFrame(csvtwo)\n",
    "converttwo = converttwo.rename(columns = {0: 'ID', 1: 'Name', 2: 'Email'}, inplace = False)\n",
    "converttwo.head()"
   ]
  },
  {
   "cell_type": "code",
   "execution_count": 64,
   "id": "96cdafb5",
   "metadata": {},
   "outputs": [],
   "source": [
    "converttwo.to_csv('CSV_02.csv')"
   ]
  },
  {
   "cell_type": "markdown",
   "id": "6be0782f",
   "metadata": {},
   "source": [
    "#### CSV 3 (id, tx_date,tx_amount,tx_type)"
   ]
  },
  {
   "cell_type": "code",
   "execution_count": 69,
   "id": "37c24d86",
   "metadata": {},
   "outputs": [
    {
     "data": {
      "text/plain": [
       "[{'id': 1, 'tx_date': '2020-01-01', 'tx_amount': 10, 'tx_type': 'buy'},\n",
       " {'id': 3, 'tx_date': '2020-02-01', 'tx_amount': 10, 'tx_type': 'buy'},\n",
       " {'id': 5, 'tx_date': '2020-03-01', 'tx_amount': 20, 'tx_type': 'sell'},\n",
       " {'id': 2, 'tx_date': '2020-01-01', 'tx_amount': 10, 'tx_type': 'sell'},\n",
       " {'id': 4, 'tx_date': '2020-02-01', 'tx_amount': 10, 'tx_type': 'sell'},\n",
       " {'id': 6, 'tx_date': '2020-03-01', 'tx_amount': 20, 'tx_type': 'buy'}]"
      ]
     },
     "execution_count": 69,
     "metadata": {},
     "output_type": "execute_result"
    }
   ],
   "source": [
    "csvthree = []\n",
    "\n",
    "for i in range(0, len(datac)):\n",
    "    temp = datac[i]['txs']\n",
    "    for j in range(0,len(temp)):\n",
    "        csvthree.append(temp[j])\n",
    "        \n",
    "csvthree"
   ]
  },
  {
   "cell_type": "code",
   "execution_count": 71,
   "id": "73f58483",
   "metadata": {},
   "outputs": [
    {
     "data": {
      "text/plain": [
       "<bound method NDFrame.head of    id     tx_date  tx_amount tx_type\n",
       "0   1  2020-01-01         10     buy\n",
       "1   3  2020-02-01         10     buy\n",
       "2   5  2020-03-01         20    sell\n",
       "3   2  2020-01-01         10    sell\n",
       "4   4  2020-02-01         10    sell\n",
       "5   6  2020-03-01         20     buy>"
      ]
     },
     "execution_count": 71,
     "metadata": {},
     "output_type": "execute_result"
    }
   ],
   "source": [
    "convertthree = pd.DataFrame(csvthree)\n",
    "convertthree.head"
   ]
  },
  {
   "cell_type": "code",
   "execution_count": 72,
   "id": "170c3ed1",
   "metadata": {},
   "outputs": [],
   "source": [
    "convertthree.to_csv('CSV_03.csv')"
   ]
  }
 ],
 "metadata": {
  "kernelspec": {
   "display_name": "Python 3",
   "language": "python",
   "name": "python3"
  },
  "language_info": {
   "codemirror_mode": {
    "name": "ipython",
    "version": 3
   },
   "file_extension": ".py",
   "mimetype": "text/x-python",
   "name": "python",
   "nbconvert_exporter": "python",
   "pygments_lexer": "ipython3",
   "version": "3.8.2"
  }
 },
 "nbformat": 4,
 "nbformat_minor": 5
}
